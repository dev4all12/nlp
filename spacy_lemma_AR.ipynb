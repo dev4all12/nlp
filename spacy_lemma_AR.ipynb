{
 "cells": [
  {
   "cell_type": "code",
   "execution_count": 2,
   "id": "79edfe1b-7986-44f6-99a8-3f3a3182289e",
   "metadata": {},
   "outputs": [],
   "source": [
    "import nltk\n",
    "import spacy"
   ]
  },
  {
   "cell_type": "code",
   "execution_count": 3,
   "id": "2800ca8a-7c71-4b8f-a55a-0a5b39094a8d",
   "metadata": {},
   "outputs": [],
   "source": [
    "from nltk.stem import PorterStemmer\n",
    "stemmer = PorterStemmer()"
   ]
  },
  {
   "cell_type": "code",
   "execution_count": 5,
   "id": "3343f01a-34ea-4138-965f-11d5bd3cfca1",
   "metadata": {},
   "outputs": [
    {
     "name": "stdout",
     "output_type": "stream",
     "text": [
      "eating  |  eat\n",
      "eats  |  eat\n",
      "ability  |  abil\n",
      "adjustable  |  adjust\n",
      "meeting  |  meet\n"
     ]
    }
   ],
   "source": [
    "words= ['eating','eats','ability','adjustable',\"meeting\"]\n",
    "for word in words:\n",
    "    print(word,' | ',stemmer.stem(word))"
   ]
  },
  {
   "cell_type": "code",
   "execution_count": 13,
   "id": "4bd699a3-935f-4672-9c5c-8bd679ca0276",
   "metadata": {},
   "outputs": [
    {
     "name": "stdout",
     "output_type": "stream",
     "text": [
      "eating  |  eat | 9837207709914848172\n",
      "eat  |  eat | 9837207709914848172\n",
      "ate  |  eat | 9837207709914848172\n",
      "adjustable  |  adjustable | 6033511944150694480\n",
      "rafting  |  rafting | 1196139325854331\n",
      "meeting  |  meeting | 14798207169164081740\n",
      "better  |  well | 4525988469032889948\n"
     ]
    }
   ],
   "source": [
    "nlp= spacy.load('en_core_web_sm')\n",
    "doc= nlp('eating eat ate adjustable rafting meeting better')\n",
    "for token in doc:\n",
    "    print(token, ' | ',token.lemma_, '|',token.lemma)"
   ]
  },
  {
   "cell_type": "code",
   "execution_count": 14,
   "id": "00782891-b82d-4007-b81b-7c9c6cecb7ac",
   "metadata": {},
   "outputs": [
    {
     "data": {
      "text/plain": [
       "['tok2vec', 'tagger', 'parser', 'attribute_ruler', 'lemmatizer', 'ner']"
      ]
     },
     "execution_count": 14,
     "metadata": {},
     "output_type": "execute_result"
    }
   ],
   "source": [
    "#we can modify lemma \n",
    "nlp.pipe_names"
   ]
  },
  {
   "cell_type": "code",
   "execution_count": 15,
   "id": "4c79ef85-5016-404e-b086-d6765ec58e7b",
   "metadata": {},
   "outputs": [
    {
     "name": "stdout",
     "output_type": "stream",
     "text": [
      "Bro |  Brother\n",
      ", |  ,\n",
      "you |  you\n",
      "want |  want\n",
      "to |  to\n",
      "go |  go\n",
      "? |  ?\n",
      "Brah |  Brother\n",
      ", |  ,\n",
      "donot |  donot\n",
      "say |  say\n",
      "no |  no\n",
      "! |  !\n"
     ]
    }
   ],
   "source": [
    "ar= nlp.get_pipe('attribute_ruler')\n",
    "ar.add([[{'TEXT':'Bro'}],[{'TEXT':'Brah'}]],{'LEMMA':'Brother'})\n",
    "doc = nlp('Bro, you want to go? Brah,donot say no!')\n",
    "for word in doc:\n",
    "    print(word, '| ',word.lemma_)"
   ]
  }
 ],
 "metadata": {
  "kernelspec": {
   "display_name": "Python 3 (ipykernel)",
   "language": "python",
   "name": "python3"
  },
  "language_info": {
   "codemirror_mode": {
    "name": "ipython",
    "version": 3
   },
   "file_extension": ".py",
   "mimetype": "text/x-python",
   "name": "python",
   "nbconvert_exporter": "python",
   "pygments_lexer": "ipython3",
   "version": "3.10.11"
  }
 },
 "nbformat": 4,
 "nbformat_minor": 5
}
