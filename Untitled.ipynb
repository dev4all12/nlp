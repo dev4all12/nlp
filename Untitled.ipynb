{
 "cells": [
  {
   "cell_type": "code",
   "execution_count": 1,
   "id": "69ec5fbe-6a9b-40f9-b1b1-cd0375d3f0b0",
   "metadata": {},
   "outputs": [],
   "source": [
    "import spacy"
   ]
  },
  {
   "cell_type": "code",
   "execution_count": 3,
   "id": "fdab14a5-bb93-49fd-bcfa-df807917e367",
   "metadata": {},
   "outputs": [
    {
     "name": "stdout",
     "output_type": "stream",
     "text": [
      "captain\n",
      "america\n",
      "can\n",
      "eat\n",
      "100\n",
      "$\n",
      "samosa\n",
      "daily\n",
      ".\n"
     ]
    }
   ],
   "source": []
  },
  {
   "cell_type": "code",
   "execution_count": 4,
   "id": "c08bd093-eb4a-468e-9e47-75ac2d9f9fe3",
   "metadata": {},
   "outputs": [],
   "source": [
    "nlp= spacy.load('en_core_web_sm')\n"
   ]
  },
  {
   "cell_type": "code",
   "execution_count": 7,
   "id": "37f11fb7-373f-4efe-ba3d-9871bc373e34",
   "metadata": {},
   "outputs": [
    {
     "data": {
      "text/plain": [
       "['tok2vec', 'tagger', 'parser', 'attribute_ruler', 'lemmatizer', 'ner']"
      ]
     },
     "execution_count": 7,
     "metadata": {},
     "output_type": "execute_result"
    }
   ],
   "source": [
    "nlp.pipe_names"
   ]
  },
  {
   "cell_type": "code",
   "execution_count": 10,
   "id": "eff93867-c90e-4af7-ba10-d0febc6c5f2a",
   "metadata": {},
   "outputs": [
    {
     "name": "stdout",
     "output_type": "stream",
     "text": [
      "captain  |  PROPN  |  captain\n",
      "america  |  PROPN  |  america\n",
      "can  |  AUX  |  can\n",
      "ate  |  VERB  |  ate\n",
      "100  |  NUM  |  100\n",
      "$  |  NOUN  |  $\n",
      "samosa  |  NOUN  |  samosa\n",
      "daily  |  ADV  |  daily\n",
      ".  |  PUNCT  |  .\n",
      "And  |  CCONJ  |  and\n",
      "said  |  VERB  |  say\n",
      "he  |  PRON  |  he\n",
      "can  |  AUX  |  can\n",
      "eat  |  VERB  |  eat\n",
      "daily  |  ADV  |  daily\n"
     ]
    }
   ],
   "source": [
    "doc= nlp('captain america can ate 100$ samosa daily. And said he can eat daily')\n",
    "for token in doc:\n",
    "    print(token, ' | ',token.pos_, \" | \",token.lemma_)\n",
    "    #stemming \n"
   ]
  },
  {
   "cell_type": "code",
   "execution_count": 12,
   "id": "dbb98a38-fe29-4943-9e8b-93619fd13ac8",
   "metadata": {},
   "outputs": [
    {
     "name": "stdout",
     "output_type": "stream",
     "text": [
      "Tesla Inc  |  ORG  |  Companies, agencies, institutions, etc.\n",
      "45$ billion  |  MONEY  |  Monetary values, including unit\n"
     ]
    }
   ],
   "source": [
    "doc=nlp('Tesla Inc is going to aquare twitter for 45$ billion')\n",
    "for ent in doc.ents:\n",
    "    print(ent.text, ' | ',ent.label_, ' | ',spacy.explain(ent.label_))\n",
    "    "
   ]
  },
  {
   "cell_type": "code",
   "execution_count": 13,
   "id": "507d09c2-577b-41f2-9d10-5ea41138e45a",
   "metadata": {},
   "outputs": [
    {
     "data": {
      "text/html": [
       "<span class=\"tex2jax_ignore\"><div class=\"entities\" style=\"line-height: 2.5; direction: ltr\">\n",
       "<mark class=\"entity\" style=\"background: #7aecec; padding: 0.45em 0.6em; margin: 0 0.25em; line-height: 1; border-radius: 0.35em;\">\n",
       "    Tesla Inc\n",
       "    <span style=\"font-size: 0.8em; font-weight: bold; line-height: 1; border-radius: 0.35em; vertical-align: middle; margin-left: 0.5rem\">ORG</span>\n",
       "</mark>\n",
       " is going to aquare twitter for \n",
       "<mark class=\"entity\" style=\"background: #e4e7d2; padding: 0.45em 0.6em; margin: 0 0.25em; line-height: 1; border-radius: 0.35em;\">\n",
       "    45$ billion\n",
       "    <span style=\"font-size: 0.8em; font-weight: bold; line-height: 1; border-radius: 0.35em; vertical-align: middle; margin-left: 0.5rem\">MONEY</span>\n",
       "</mark>\n",
       "</div></span>"
      ],
      "text/plain": [
       "<IPython.core.display.HTML object>"
      ]
     },
     "metadata": {},
     "output_type": "display_data"
    }
   ],
   "source": [
    "from spacy import displacy\n",
    "displacy.render(doc, style='ent')"
   ]
  },
  {
   "cell_type": "code",
   "execution_count": 17,
   "id": "5fa0c64e-7e9c-41f1-9658-0991be7a9b9f",
   "metadata": {},
   "outputs": [
    {
     "data": {
      "text/plain": [
       "['ner']"
      ]
     },
     "execution_count": 17,
     "metadata": {},
     "output_type": "execute_result"
    }
   ],
   "source": [
    "source_nlp=spacy.load('en_core_web_sm')\n",
    "nlp=spacy.blank('en')\n",
    "\n",
    "nlp.add_pipe(\"ner\",source=source_nlp)\n",
    "nlp.pipe_names"
   ]
  },
  {
   "cell_type": "code",
   "execution_count": 18,
   "id": "98f36e78-b750-4db7-b7bf-584c616ff241",
   "metadata": {},
   "outputs": [
    {
     "name": "stdout",
     "output_type": "stream",
     "text": [
      "Tesla Inc  |  ORG  |  Companies, agencies, institutions, etc.\n",
      "45$ billion  |  MONEY  |  Monetary values, including unit\n"
     ]
    }
   ],
   "source": [
    "doc=nlp('Tesla Inc is going to aquare twitter for 45$ billion')\n",
    "for ent in doc.ents:\n",
    "    print(ent.text, ' | ',ent.label_, ' | ',spacy.explain(ent.label_))\n",
    "    \n"
   ]
  }
 ],
 "metadata": {
  "kernelspec": {
   "display_name": "Python 3 (ipykernel)",
   "language": "python",
   "name": "python3"
  },
  "language_info": {
   "codemirror_mode": {
    "name": "ipython",
    "version": 3
   },
   "file_extension": ".py",
   "mimetype": "text/x-python",
   "name": "python",
   "nbconvert_exporter": "python",
   "pygments_lexer": "ipython3",
   "version": "3.10.11"
  }
 },
 "nbformat": 4,
 "nbformat_minor": 5
}
