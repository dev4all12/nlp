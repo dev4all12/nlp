{
 "cells": [
  {
   "cell_type": "code",
   "execution_count": 1,
   "id": "cf2164d6-1500-4377-b554-5df226145792",
   "metadata": {},
   "outputs": [],
   "source": [
    "import spacy"
   ]
  },
  {
   "cell_type": "code",
   "execution_count": 2,
   "id": "8065b526-d3d1-426c-8d59-c8a1c092b91c",
   "metadata": {},
   "outputs": [],
   "source": [
    "nlp= spacy.load('en_core_web_sm')"
   ]
  },
  {
   "cell_type": "code",
   "execution_count": 35,
   "id": "1a1441d8-9d05-426c-a0cc-43d67a671c8d",
   "metadata": {},
   "outputs": [
    {
     "name": "stdout",
     "output_type": "stream",
     "text": [
      "Elon |  PROPN | NNP |  noun, proper singular\n",
      "flew |  VERB | VBD |  verb, past tense\n",
      "to |  ADP | IN |  conjunction, subordinating or preposition\n",
      "mars |  PROPN | NNP |  noun, proper singular\n",
      "make |  NOUN | NN |  noun, singular or mass\n",
      ". |  PUNCT | . |  punctuation mark, sentence closer\n",
      "in |  ADP | IN |  conjunction, subordinating or preposition\n",
      "next |  ADJ | JJ |  adjective (English), other noun-modifier (Chinese)\n",
      "year |  NOUN | NN |  noun, singular or mass\n",
      "and |  CCONJ | CC |  conjunction, coordinating\n",
      "made |  VERB | VBD |  verb, past tense\n",
      "244 |  NUM | CD |  cardinal number\n",
      "$ |  SYM | $ |  symbol, currency\n"
     ]
    }
   ],
   "source": [
    "doc=nlp('Elon flew to mars make. in next year and made 244$')\n",
    "for token in doc:\n",
    "    # print(token,'| ',token.pos, '|',token.tag_,'| ',spacy.explain(token.tag_))   #for pos num value    #past of speech\n",
    "    print(token,'| ',token.pos_, '|',token.tag_,'| ',spacy.explain(token.tag_))    #past of speech"
   ]
  },
  {
   "cell_type": "code",
   "execution_count": 17,
   "id": "c5526414-b0a7-426a-8b3f-cfef31b5bbbf",
   "metadata": {},
   "outputs": [],
   "source": [
    "docs= nlp('''\n",
    "\n",
    "We work to ensure that technology is inclusive, trusted, \n",
    "and increases sustainability. We are accelerating progress\n",
    "toward a more sustainable future by   reducing our environmental footprint, \n",
    "advancing research, helping our customers build sustainable solutions, and \n",
    "advocating for policies that benefit the environment. In January 2020, we\n",
    "announced a bold commitment and detailed plan to be carbon negative by 2030,\n",
    "and to remove from the environment by   2050 all the carbon we have emitted since \n",
    "our founding in 1975. This included a commitment   to invest $1 billion over four\n",
    "years in new technologies and innovative climate solutions. We built on this \n",
    "pledge by adding commitments to be water positive by 2030, zero waste by 2030, \n",
    "and to protect ecosystems by developing a Planetary Computer. We also help our \n",
    "suppliers and customers around the world use''')"
   ]
  },
  {
   "cell_type": "code",
   "execution_count": 23,
   "id": "938f8995-041c-4fed-bf62-8ae36d2b13a4",
   "metadata": {},
   "outputs": [
    {
     "data": {
      "text/plain": [
       "[\n",
       " ,\n",
       " We,\n",
       " work,\n",
       " to,\n",
       " ensure,\n",
       " that,\n",
       " technology,\n",
       " is,\n",
       " inclusive,\n",
       " ,,\n",
       " trusted,\n",
       " ,,\n",
       " ,\n",
       " and,\n",
       " increases,\n",
       " sustainability,\n",
       " .,\n",
       " We,\n",
       " are,\n",
       " accelerating]"
      ]
     },
     "execution_count": 23,
     "metadata": {},
     "output_type": "execute_result"
    }
   ],
   "source": [
    "doc=nlp(docs)\n",
    "filtered_token=[]\n",
    "for token in doc:\n",
    "\n",
    "    if token.pos not in ['SPACE','x','PUNCT']:\n",
    "        filtered_token.append(token)\n",
    "    # print(token,'| ',token.pos_,)\n",
    "filtered_token[:20]"
   ]
  },
  {
   "cell_type": "code",
   "execution_count": 31,
   "id": "e24f76f6-1ae4-4a56-a9f0-ad9dad48ff98",
   "metadata": {},
   "outputs": [],
   "source": [
    "count= doc.count_by(spacy.attrs.POS)"
   ]
  },
  {
   "cell_type": "code",
   "execution_count": 32,
   "id": "69a0b6e2-d0ee-4cd3-93bc-d371da3cdb03",
   "metadata": {},
   "outputs": [
    {
     "name": "stdout",
     "output_type": "stream",
     "text": [
      "SPACE |  15\n",
      "PRON |  12\n",
      "VERB |  21\n",
      "PART |  6\n",
      "DET |  11\n",
      "NOUN |  30\n",
      "AUX |  5\n",
      "ADJ |  10\n",
      "PUNCT |  14\n",
      "CCONJ |  7\n",
      "ADP |  16\n",
      "ADV |  2\n",
      "PROPN |  3\n",
      "NUM |  10\n",
      "SCONJ |  1\n",
      "SYM |  1\n"
     ]
    }
   ],
   "source": [
    "# doc.vocab[90].text\n",
    "for k,v in count.items():\n",
    "    print(doc.vocab[k].text,'| ',v)"
   ]
  }
 ],
 "metadata": {
  "kernelspec": {
   "display_name": "Python 3 (ipykernel)",
   "language": "python",
   "name": "python3"
  },
  "language_info": {
   "codemirror_mode": {
    "name": "ipython",
    "version": 3
   },
   "file_extension": ".py",
   "mimetype": "text/x-python",
   "name": "python",
   "nbconvert_exporter": "python",
   "pygments_lexer": "ipython3",
   "version": "3.10.11"
  }
 },
 "nbformat": 4,
 "nbformat_minor": 5
}
