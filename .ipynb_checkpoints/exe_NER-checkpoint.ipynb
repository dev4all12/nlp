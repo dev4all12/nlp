{
 "cells": [
  {
   "cell_type": "code",
   "execution_count": 1,
   "id": "ddb49f24-367a-4a06-b49d-f7c98cc2d63d",
   "metadata": {},
   "outputs": [],
   "source": [
    "import spacy\n",
    "nlp=spacy.load('en_core_web_sm')"
   ]
  },
  {
   "cell_type": "code",
   "execution_count": 43,
   "id": "4235b818-9007-4ef7-9d9b-03cecec244c2",
   "metadata": {},
   "outputs": [],
   "source": [
    "text = \"\"\"Kiran want to know the famous foods in each state of India. So, he opened Google and search for this question. Google showed that\n",
    "in Delhi it is Chaat, in Gujarat it is Dal Dhokli, in Tamilnadu it is Pongal, in Andhrapradesh it is Biryani, in Assam it is Papaya Khar,\n",
    "in Bihar it is Litti Chowkha and so on for all other states\"\"\"\n",
    "\n",
    "doc = nlp(text)"
   ]
  },
  {
   "cell_type": "code",
   "execution_count": 29,
   "id": "79f807e0-a6a8-46da-9b8c-1ae4854e451c",
   "metadata": {},
   "outputs": [
    {
     "name": "stdout",
     "output_type": "stream",
     "text": [
      "Kiran |  ORG\n",
      "India |  GPE\n",
      "Google |  ORG\n",
      "Google |  ORG\n",
      "Delhi |  GPE\n",
      "Chaat |  ORG\n",
      "Gujarat |  GPE\n",
      "Dal Dhokli |  PERSON\n",
      "Tamilnadu |  GPE\n",
      "Pongal |  GPE\n",
      "Andhrapradesh |  GPE\n",
      "Biryani |  PERSON\n",
      "Assam |  GPE\n",
      "Papaya Khar |  PERSON\n",
      "Bihar |  GPE\n",
      "Litti Chowkha |  PERSON\n"
     ]
    }
   ],
   "source": [
    "for city in doc.ents:\n",
    "    print(city.text,'| ',city.label_)"
   ]
  },
  {
   "cell_type": "code",
   "execution_count": 44,
   "id": "667987e6-3590-460f-abde-42639a7dae94",
   "metadata": {},
   "outputs": [
    {
     "name": "stdout",
     "output_type": "stream",
     "text": [
      "Geographical location Names:  [India, Delhi, Gujarat, Tamilnadu, Pongal, Andhrapradesh, Assam, Bihar]\n"
     ]
    }
   ],
   "source": [
    "geo_name=[]\n",
    "for city in doc.ents:\n",
    "    if city.label_ == 'GPE':\n",
    "        geo_name.append(city)\n",
    "print('Geographical location Names: ',geo_name)\n",
    "    \n",
    "    "
   ]
  },
  {
   "cell_type": "code",
   "execution_count": 31,
   "id": "f9e1b9c6-b491-461d-9ade-a3f85e17ce87",
   "metadata": {},
   "outputs": [],
   "source": [
    "text = \"\"\"Sachin Tendulkar was born on 24 April 1973, Virat Kholi was born on 5 November 1988, Dhoni was born on 7 July 1981\n",
    "and finally Ricky ponting was born on 19 December 1974.\"\"\"\n",
    "\n",
    "doc = nlp(text)"
   ]
  },
  {
   "cell_type": "code",
   "execution_count": 42,
   "id": "61deff29-4158-44f2-af13-cbfd331278e0",
   "metadata": {},
   "outputs": [
    {
     "name": "stdout",
     "output_type": "stream",
     "text": [
      "All Birth Dates: [24 April 1973, 5 November 1988, 7 July 1981, 19 December 1974]\n"
     ]
    }
   ],
   "source": [
    "date=[]\n",
    "for dates in doc.ents:\n",
    "    if dates.label_ == 'DATE':\n",
    "        date.append(dates)\n",
    "print('All Birth Dates:', date)"
   ]
  }
 ],
 "metadata": {
  "kernelspec": {
   "display_name": "Python 3 (ipykernel)",
   "language": "python",
   "name": "python3"
  },
  "language_info": {
   "codemirror_mode": {
    "name": "ipython",
    "version": 3
   },
   "file_extension": ".py",
   "mimetype": "text/x-python",
   "name": "python",
   "nbconvert_exporter": "python",
   "pygments_lexer": "ipython3",
   "version": "3.10.11"
  }
 },
 "nbformat": 4,
 "nbformat_minor": 5
}
