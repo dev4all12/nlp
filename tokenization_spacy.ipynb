{
 "cells": [
  {
   "cell_type": "code",
   "execution_count": 1,
   "id": "3524a5e8-7cfd-4ddd-839f-3605bee71aa5",
   "metadata": {},
   "outputs": [],
   "source": [
    "import spacy"
   ]
  },
  {
   "cell_type": "code",
   "execution_count": 6,
   "id": "4891d008-3b51-4b4e-bfb8-b247c1aec900",
   "metadata": {},
   "outputs": [
    {
     "name": "stdout",
     "output_type": "stream",
     "text": [
      "\"\n",
      "Let\n",
      "'s\n",
      "go\n",
      "to\n",
      "N.Y\n",
      "!\n",
      "\"\n"
     ]
    }
   ],
   "source": [
    "doc= nlp('''\"Let's go to N.Y!\"''')\n",
    "for token in doc:\n",
    "    print(token)"
   ]
  },
  {
   "cell_type": "code",
   "execution_count": 10,
   "id": "e6f53515-47ba-42c2-96d8-e43fb3823d52",
   "metadata": {},
   "outputs": [
    {
     "name": "stdout",
     "output_type": "stream",
     "text": [
      "Dr.\n",
      "Strange\n",
      "love\n",
      "pav\n",
      "bhaji\n",
      "it\n",
      "cost\n",
      "2\n",
      "$\n",
      "per\n",
      "plate\n",
      ".\n"
     ]
    }
   ],
   "source": [
    "nlp = spacy.blank(\"en\")\n",
    "doc = nlp(\"Dr. Strange love pav bhaji it cost 2$ per plate.\")\n",
    "for token in doc:\n",
    "    print(token)"
   ]
  },
  {
   "cell_type": "code",
   "execution_count": 11,
   "id": "89c34b3b-6a7d-4e64-a318-56bf22d111b2",
   "metadata": {},
   "outputs": [
    {
     "data": {
      "text/plain": [
       "Strange love pav bhaji"
      ]
     },
     "execution_count": 11,
     "metadata": {},
     "output_type": "execute_result"
    }
   ],
   "source": [
    "doc[1:5]"
   ]
  },
  {
   "cell_type": "code",
   "execution_count": 8,
   "id": "dee288f2-ac14-4329-8761-061c99699fdb",
   "metadata": {},
   "outputs": [
    {
     "data": {
      "text/plain": [
       "spacy.tokens.doc.Doc"
      ]
     },
     "execution_count": 8,
     "metadata": {},
     "output_type": "execute_result"
    }
   ],
   "source": [
    "type(doc)"
   ]
  },
  {
   "cell_type": "code",
   "execution_count": 12,
   "id": "840857ca-a446-487e-b5b8-f2149334717d",
   "metadata": {},
   "outputs": [],
   "source": [
    "doc = nlp(\"Tony gave two $ to Peter\")\n"
   ]
  },
  {
   "cell_type": "code",
   "execution_count": 13,
   "id": "cbe56c63-a65d-4cf2-8209-a66cacc7522c",
   "metadata": {},
   "outputs": [
    {
     "data": {
      "text/plain": [
       "Tony"
      ]
     },
     "execution_count": 13,
     "metadata": {},
     "output_type": "execute_result"
    }
   ],
   "source": [
    "token0 = doc[0]\n",
    "token0"
   ]
  },
  {
   "cell_type": "code",
   "execution_count": 16,
   "id": "dc99bea7-9faf-48ea-86cb-2d3828229324",
   "metadata": {},
   "outputs": [
    {
     "data": {
      "text/plain": [
       "False"
      ]
     },
     "execution_count": 16,
     "metadata": {},
     "output_type": "execute_result"
    }
   ],
   "source": [
    "token0.is_currency"
   ]
  },
  {
   "cell_type": "code",
   "execution_count": 22,
   "id": "1749d889-4a01-4e62-8f52-fea7d75db0ae",
   "metadata": {},
   "outputs": [
    {
     "data": {
      "text/plain": [
       "'$'"
      ]
     },
     "execution_count": 22,
     "metadata": {},
     "output_type": "execute_result"
    }
   ],
   "source": [
    "token2=doc[3]\n",
    "token2.text"
   ]
  },
  {
   "cell_type": "code",
   "execution_count": 23,
   "id": "97939bc9-b76d-4a79-8a6f-73f651a7cb6c",
   "metadata": {},
   "outputs": [
    {
     "data": {
      "text/plain": [
       "True"
      ]
     },
     "execution_count": 23,
     "metadata": {},
     "output_type": "execute_result"
    }
   ],
   "source": [
    "token2.is_currency"
   ]
  },
  {
   "cell_type": "code",
   "execution_count": 24,
   "id": "6c6756af-eef7-4710-9d8e-f15108e261fd",
   "metadata": {},
   "outputs": [
    {
     "name": "stdout",
     "output_type": "stream",
     "text": [
      "Tony ==> index 0 is_alpha:  True is_punc: False like_num: False is_currency:  False\n",
      "gave ==> index 1 is_alpha:  True is_punc: False like_num: False is_currency:  False\n",
      "two ==> index 2 is_alpha:  True is_punc: False like_num: True is_currency:  False\n",
      "$ ==> index 3 is_alpha:  False is_punc: False like_num: False is_currency:  True\n",
      "to ==> index 4 is_alpha:  True is_punc: False like_num: False is_currency:  False\n",
      "Peter ==> index 5 is_alpha:  True is_punc: False like_num: False is_currency:  False\n"
     ]
    }
   ],
   "source": [
    "for token in doc:\n",
    "    print(token, '==>','index', token.i,\n",
    "         'is_alpha: ',token.is_alpha,\n",
    "          'is_punc:' ,token.is_punct,\n",
    "          'like_num:', token.like_num,\n",
    "          'is_currency: ', token.is_currency\n",
    "         )"
   ]
  },
  {
   "cell_type": "code",
   "execution_count": 25,
   "id": "2b731de2-3f5a-49c6-aefb-f32ec7bc00d5",
   "metadata": {},
   "outputs": [
    {
     "data": {
      "text/plain": [
       "['Dayton high school, 8th grade students information\\n',\n",
       " '==================================================\\n',\n",
       " 'Name    birth day         temail\\n',\n",
       " ' \\n',\n",
       " 'Virat   5 June, 1882    virat@kohli.com\\n',\n",
       " '-----   ------------    --------------\\n',\n",
       " 'Maria    12 April, 2001  maria@sharapova.com\\n',\n",
       " 'Serena  24 June, 1998   serena@williams.com\\n',\n",
       " 'Joe      1 May, 1997    joe@root.com\\n']"
      ]
     },
     "execution_count": 25,
     "metadata": {},
     "output_type": "execute_result"
    }
   ],
   "source": [
    "with open ('student.txt') as f:\n",
    "    text= f.readlines()\n",
    "text"
   ]
  },
  {
   "cell_type": "code",
   "execution_count": 26,
   "id": "2f87916e-7533-4321-a9b7-8d549e1201e0",
   "metadata": {},
   "outputs": [
    {
     "data": {
      "text/plain": [
       "'Dayton high school, 8th grade students information\\n ==================================================\\n Name    birth day         temail\\n  \\n Virat   5 June, 1882    virat@kohli.com\\n -----   ------------    --------------\\n Maria    12 April, 2001  maria@sharapova.com\\n Serena  24 June, 1998   serena@williams.com\\n Joe      1 May, 1997    joe@root.com\\n'"
      ]
     },
     "execution_count": 26,
     "metadata": {},
     "output_type": "execute_result"
    }
   ],
   "source": [
    "text =  ' '.join(text)\n",
    "text"
   ]
  },
  {
   "cell_type": "code",
   "execution_count": 30,
   "id": "ab658844-6b61-41db-bb68-f849249fb21d",
   "metadata": {},
   "outputs": [
    {
     "data": {
      "text/plain": [
       "['virat@kohli.com',\n",
       " 'maria@sharapova.com',\n",
       " 'serena@williams.com',\n",
       " 'joe@root.com']"
      ]
     },
     "execution_count": 30,
     "metadata": {},
     "output_type": "execute_result"
    }
   ],
   "source": [
    "doc= nlp(text)\n",
    "email=[]\n",
    "for token in doc:\n",
    "    if token.like_email:\n",
    "        email.append(token.text)\n",
    "email\n",
    "        "
   ]
  },
  {
   "cell_type": "code",
   "execution_count": 36,
   "id": "04766246-9e2c-4ead-94c6-e68c3f3dd15d",
   "metadata": {},
   "outputs": [
    {
     "name": "stdout",
     "output_type": "stream",
     "text": [
      "केसे False False\n",
      "हो False False\n",
      "भाइ False False\n",
      "मेरे False False\n",
      "4000 False True\n",
      "$ True False\n",
      "को False False\n",
      "निन्द False False\n",
      "आ False False\n",
      "रहि False False\n",
      "हे False False\n"
     ]
    }
   ],
   "source": [
    "nlp = spacy.blank('hi')\n",
    "doc = nlp('केसे हो भाइ मेरे 4000 $ को निन्द आ रहि हे')\n",
    "for token in doc:\n",
    "          print(token, token.is_currency, token.like_num)\n",
    "          "
   ]
  },
  {
   "cell_type": "code",
   "execution_count": 37,
   "id": "e6e988d9-970c-4b1c-974c-fce10a1bfdde",
   "metadata": {},
   "outputs": [
    {
     "data": {
      "text/plain": [
       "['gimme', 'double', 'cheese', 'extra', 'large', 'healthy', 'pizza']"
      ]
     },
     "execution_count": 37,
     "metadata": {},
     "output_type": "execute_result"
    }
   ],
   "source": [
    "doc= nlp('gimme double cheese extra large healthy pizza')\n",
    "token= [token.text for token in doc]\n",
    "token"
   ]
  },
  {
   "cell_type": "code",
   "execution_count": 39,
   "id": "e662451e-892e-42d3-a2cb-de7f94770fbc",
   "metadata": {},
   "outputs": [
    {
     "data": {
      "text/plain": [
       "['gim', 'me', 'double', 'cheese', 'extra', 'large', 'healthy', 'pizza']"
      ]
     },
     "execution_count": 39,
     "metadata": {},
     "output_type": "execute_result"
    }
   ],
   "source": [
    "from spacy.symbols import ORTH\n",
    "nlp.tokenizer.add_special_case('gimme',[\n",
    "{ORTH:'gim'},\n",
    "{ORTH: 'me'}\n",
    "    \n",
    "])\n",
    "\n",
    "doc= nlp('gimme double cheese extra large healthy pizza')\n",
    "token= [token.text for token in doc]\n",
    "token"
   ]
  },
  {
   "cell_type": "code",
   "execution_count": 42,
   "id": "99f1ba0e-43bb-4630-981f-b38b6e56a7b4",
   "metadata": {},
   "outputs": [
    {
     "data": {
      "text/plain": [
       "<spacy.pipeline.sentencizer.Sentencizer at 0x1f42b9b1340>"
      ]
     },
     "execution_count": 42,
     "metadata": {},
     "output_type": "execute_result"
    }
   ],
   "source": [
    "nlp.add_pipe('sentencizer')"
   ]
  },
  {
   "cell_type": "code",
   "execution_count": 43,
   "id": "8d2b9677-2e9e-46c2-9798-d5ed0cdbfd35",
   "metadata": {},
   "outputs": [
    {
     "data": {
      "text/plain": [
       "['sentencizer']"
      ]
     },
     "execution_count": 43,
     "metadata": {},
     "output_type": "execute_result"
    }
   ],
   "source": [
    "nlp.pipe_names"
   ]
  },
  {
   "cell_type": "code",
   "execution_count": 45,
   "id": "6402ed05-5798-4344-a2f5-a54200534bba",
   "metadata": {},
   "outputs": [
    {
     "name": "stdout",
     "output_type": "stream",
     "text": [
      "Dr.\n",
      "Strange love pav bhaji it cost 2$ per plate.\n",
      "Steve like Pizza\n"
     ]
    }
   ],
   "source": [
    "doc = nlp(\"Dr. Strange love pav bhaji it cost 2$ per plate. Steve like Pizza\")\n",
    "for token in doc.sents:\n",
    "    print(token)"
   ]
  }
 ],
 "metadata": {
  "kernelspec": {
   "display_name": "Python 3 (ipykernel)",
   "language": "python",
   "name": "python3"
  },
  "language_info": {
   "codemirror_mode": {
    "name": "ipython",
    "version": 3
   },
   "file_extension": ".py",
   "mimetype": "text/x-python",
   "name": "python",
   "nbconvert_exporter": "python",
   "pygments_lexer": "ipython3",
   "version": "3.10.11"
  }
 },
 "nbformat": 4,
 "nbformat_minor": 5
}
