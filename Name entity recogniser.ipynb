{
 "cells": [
  {
   "cell_type": "code",
   "execution_count": 1,
   "id": "76b7ccfc-6c8a-4746-bdbe-de2c95f7c7a5",
   "metadata": {},
   "outputs": [],
   "source": [
    "import spacy\n",
    "nlp= spacy.load('en_core_web_sm')"
   ]
  },
  {
   "cell_type": "code",
   "execution_count": 2,
   "id": "f8b48d83-784d-4917-920f-6421c9b356c1",
   "metadata": {},
   "outputs": [
    {
     "data": {
      "text/plain": [
       "['tok2vec', 'tagger', 'parser', 'attribute_ruler', 'lemmatizer', 'ner']"
      ]
     },
     "execution_count": 2,
     "metadata": {},
     "output_type": "execute_result"
    }
   ],
   "source": [
    "nlp.pipe_names"
   ]
  },
  {
   "cell_type": "code",
   "execution_count": 12,
   "id": "bb7f9713-32e5-4576-88c7-e153ae0f3ffd",
   "metadata": {},
   "outputs": [
    {
     "name": "stdout",
     "output_type": "stream",
     "text": [
      "Tesla Inc |  ORG  |  Companies, agencies, institutions, etc.\n",
      "Twitter Inc |  ORG  |  Companies, agencies, institutions, etc.\n",
      "$45 billion |  MONEY  |  Monetary values, including unit\n"
     ]
    }
   ],
   "source": [
    "#doc=nlp('Tesla Inc if going to aquare twitter inc for $45 billion')  #twitter will not recognise due to formation n NER.\n",
    "doc=nlp('Tesla Inc if going to aquare Twitter Inc for $45 billion')\n",
    "for ent in doc.ents:\n",
    "    print(ent.text, '| ', ent.label_,' | ',spacy.explain(ent.label_) )"
   ]
  },
  {
   "cell_type": "code",
   "execution_count": 11,
   "id": "a65318a7-ecdd-4081-abbb-2bf45749182d",
   "metadata": {},
   "outputs": [
    {
     "data": {
      "text/html": [
       "<span class=\"tex2jax_ignore\"><div class=\"entities\" style=\"line-height: 2.5; direction: ltr\">\n",
       "<mark class=\"entity\" style=\"background: #7aecec; padding: 0.45em 0.6em; margin: 0 0.25em; line-height: 1; border-radius: 0.35em;\">\n",
       "    Tesla Inc\n",
       "    <span style=\"font-size: 0.8em; font-weight: bold; line-height: 1; border-radius: 0.35em; vertical-align: middle; margin-left: 0.5rem\">ORG</span>\n",
       "</mark>\n",
       " if going to aquare \n",
       "<mark class=\"entity\" style=\"background: #7aecec; padding: 0.45em 0.6em; margin: 0 0.25em; line-height: 1; border-radius: 0.35em;\">\n",
       "    Twitter Inc\n",
       "    <span style=\"font-size: 0.8em; font-weight: bold; line-height: 1; border-radius: 0.35em; vertical-align: middle; margin-left: 0.5rem\">ORG</span>\n",
       "</mark>\n",
       " for \n",
       "<mark class=\"entity\" style=\"background: #e4e7d2; padding: 0.45em 0.6em; margin: 0 0.25em; line-height: 1; border-radius: 0.35em;\">\n",
       "    $45 billion\n",
       "    <span style=\"font-size: 0.8em; font-weight: bold; line-height: 1; border-radius: 0.35em; vertical-align: middle; margin-left: 0.5rem\">MONEY</span>\n",
       "</mark>\n",
       "</div></span>"
      ],
      "text/plain": [
       "<IPython.core.display.HTML object>"
      ]
     },
     "metadata": {},
     "output_type": "display_data"
    }
   ],
   "source": [
    "from spacy import displacy\n",
    "displacy.render(doc,style='ent')"
   ]
  },
  {
   "cell_type": "code",
   "execution_count": 16,
   "id": "80b371f6-3475-4872-ac06-a4d498ce71a0",
   "metadata": {},
   "outputs": [
    {
     "data": {
      "text/plain": [
       "['CARDINAL',\n",
       " 'DATE',\n",
       " 'EVENT',\n",
       " 'FAC',\n",
       " 'GPE',\n",
       " 'LANGUAGE',\n",
       " 'LAW',\n",
       " 'LOC',\n",
       " 'MONEY',\n",
       " 'NORP',\n",
       " 'ORDINAL',\n",
       " 'ORG',\n",
       " 'PERCENT',\n",
       " 'PERSON',\n",
       " 'PRODUCT',\n",
       " 'QUANTITY',\n",
       " 'TIME',\n",
       " 'WORK_OF_ART']"
      ]
     },
     "execution_count": 16,
     "metadata": {},
     "output_type": "execute_result"
    }
   ],
   "source": [
    "nlp.pipe_labels['ner']"
   ]
  },
  {
   "cell_type": "code",
   "execution_count": 20,
   "id": "5046ac31-0d21-4718-b4c2-f77ebba3e254",
   "metadata": {},
   "outputs": [
    {
     "name": "stdout",
     "output_type": "stream",
     "text": [
      "M. Bloomberg |  PERSON |  People, including fictional\n",
      "Bloomberg Inc |  ORG |  Companies, agencies, institutions, etc.\n",
      "1992 |  DATE |  Absolute or relative dates or periods\n"
     ]
    }
   ],
   "source": [
    "doc= nlp('M. Bloomberg founded Bloomberg Inc in 1992')\n",
    "for ent in doc.ents:\n",
    "    print(ent.text,'| ',ent.label_, '| ',spacy.explain(ent.label_))"
   ]
  },
  {
   "cell_type": "code",
   "execution_count": 34,
   "id": "3a9f732e-443b-4685-9a91-134adb6f4b21",
   "metadata": {},
   "outputs": [
    {
     "name": "stdout",
     "output_type": "stream",
     "text": [
      "Tesla |  ORG\n",
      "$45 billion |  MONEY\n"
     ]
    }
   ],
   "source": [
    "doc=nlp('Tesla if going to aquare twitter for $45 billion')\n",
    "for ent in doc.ents:\n",
    "    print(ent.text, '| ', ent.label_,)"
   ]
  },
  {
   "cell_type": "code",
   "execution_count": 27,
   "id": "dbb02a1c-b101-475a-b47d-9cdca4f57533",
   "metadata": {},
   "outputs": [
    {
     "data": {
      "text/plain": [
       "spacy.tokens.span.Span"
      ]
     },
     "execution_count": 27,
     "metadata": {},
     "output_type": "execute_result"
    }
   ],
   "source": [
    "type(doc[2:5])"
   ]
  },
  {
   "cell_type": "code",
   "execution_count": 35,
   "id": "27a3484a-2f79-4f9f-98a4-de7e0dc84e95",
   "metadata": {},
   "outputs": [],
   "source": [
    "from spacy.tokens import Span\n",
    "\n",
    "s1 = Span(doc,0,1,label='ORG')\n",
    "s2 = Span(doc,5,6,label='ORG')\n",
    "doc.set_ents([s1,s2], default= 'unmodified')"
   ]
  },
  {
   "cell_type": "code",
   "execution_count": 36,
   "id": "056dcbc0-7e30-4ecf-bb08-486b729cb536",
   "metadata": {},
   "outputs": [
    {
     "name": "stdout",
     "output_type": "stream",
     "text": [
      "Tesla |  ORG\n",
      "twitter |  ORG\n",
      "$45 billion |  MONEY\n"
     ]
    }
   ],
   "source": [
    "for ent in doc.ents:\n",
    "    print(ent.text,'| ',ent.label_)"
   ]
  }
 ],
 "metadata": {
  "kernelspec": {
   "display_name": "Python 3 (ipykernel)",
   "language": "python",
   "name": "python3"
  },
  "language_info": {
   "codemirror_mode": {
    "name": "ipython",
    "version": 3
   },
   "file_extension": ".py",
   "mimetype": "text/x-python",
   "name": "python",
   "nbconvert_exporter": "python",
   "pygments_lexer": "ipython3",
   "version": "3.10.11"
  }
 },
 "nbformat": 4,
 "nbformat_minor": 5
}
